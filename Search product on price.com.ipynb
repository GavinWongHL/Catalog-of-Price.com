{
 "cells": [
  {
   "cell_type": "code",
   "execution_count": 1,
   "id": "b9465694-b431-4a4c-8dfe-32c2247d5465",
   "metadata": {},
   "outputs": [],
   "source": [
    "def get_product(brand):\n",
    "    \n",
    "    name = []\n",
    "    r = requests.get(str(\"https://www.price.com.hk/search.php?g=A&q=\" + brand))\n",
    "    soup = BeautifulSoup(r.text)\n",
    "    p = int(soup.find('div',{'class':'pagination-total'}).text[1:-1].strip())\n",
    "    \n",
    "    for y in range(p):\n",
    "        r = requests.get(str(\"https://www.price.com.hk/search.php?g=A&q=\" + brand + \"&page=\" + str(y+1)))\n",
    "        soup = BeautifulSoup(r.text)\n",
    "        x = len(soup.findAll('div',{'class':'item-inner'}))\n",
    "        \n",
    "        for i in range(x):\n",
    "            product = soup.findAll('div',{'class':'item-inner'})[i]\n",
    "            product_name = product.find('div',{'class':'line line-01'}).text.strip()\n",
    "            d = dict()\n",
    "            d['product_name'] = product_name\n",
    "            \n",
    "            if product.find('div',{'class':'line line-01 price-range'}) != None:\n",
    "                \n",
    "                price = product.find('div',{'class':'line line-01 price-range'}).text.strip()\n",
    "                d['product_price'] = price\n",
    "                name.append(d)\n",
    "                \n",
    "            \n",
    "            else:\n",
    "                name.append(d)\n",
    "\n",
    "    return name"
   ]
  },
  {
   "cell_type": "code",
   "execution_count": null,
   "id": "d2b489c1-edd5-41de-aa4b-a300e5abec97",
   "metadata": {},
   "outputs": [],
   "source": []
  }
 ],
 "metadata": {
  "kernelspec": {
   "display_name": "Python 3 (ipykernel)",
   "language": "python",
   "name": "python3"
  },
  "language_info": {
   "codemirror_mode": {
    "name": "ipython",
    "version": 3
   },
   "file_extension": ".py",
   "mimetype": "text/x-python",
   "name": "python",
   "nbconvert_exporter": "python",
   "pygments_lexer": "ipython3",
   "version": "3.9.12"
  }
 },
 "nbformat": 4,
 "nbformat_minor": 5
}
